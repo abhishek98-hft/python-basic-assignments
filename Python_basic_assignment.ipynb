{
  "nbformat": 4,
  "nbformat_minor": 0,
  "metadata": {
    "colab": {
      "provenance": []
    },
    "kernelspec": {
      "name": "python3",
      "display_name": "Python 3"
    },
    "language_info": {
      "name": "python"
    }
  },
  "cells": [
    {
      "cell_type": "markdown",
      "source": [
        "Python Basic Assignment\n"
      ],
      "metadata": {
        "id": "ea8qwXdKAo07"
      }
    },
    {
      "cell_type": "markdown",
      "source": [
        "Q1:whta is python,and why is it popular?\n",
        "\n",
        "ans: Python is a programming language used for to genrate any program in very simple and easy way.\n",
        "Python is popular because it is easy to learn,versatile,and can be used for many different purpose. It has also large no: of libraries which is very useful and also save time and effort in development."
      ],
      "metadata": {
        "id": "Vb864LtsAout"
      }
    },
    {
      "cell_type": "markdown",
      "source": [
        "Q2: what is interpreter in python?\n",
        "\n",
        "Ans: A python interpreter is a program that reads and executes python code. It translate python code into bytecode,which is a lower level representation of the code that the python virtual machine can execute."
      ],
      "metadata": {
        "id": "tCehLh59AnVM"
      }
    },
    {
      "cell_type": "markdown",
      "source": [
        "Q3: what are the pre-defined keywords in python?\n",
        "\n",
        "Ans: pre-defined keywords in python are words that have specific meaning and are reserved for use in python program. They are case sensitive and can not be change or used as a identifiers.\n",
        "example:- else,elif,if,def etc.\n"
      ],
      "metadata": {
        "id": "wjAxVVyFAm03"
      }
    },
    {
      "cell_type": "markdown",
      "source": [
        "Q4: Can keywords be used as variable names?\n",
        "\n",
        "Ans: No, keywords cannot be used as variable names in python. keywords are reserved words that define the structure and syntax of the python language. Keywords are fundamental terms with unique meaning that the compiler recognizes.\n",
        "they can not be used as variable names,function names,or any other identifiers."
      ],
      "metadata": {
        "id": "Ne-HiDMSHIBH"
      }
    },
    {
      "cell_type": "markdown",
      "source": [
        "Q5: What is mutability in python?\n",
        "\n",
        "Ans: In Python mutability is the ability to change an object's value after it has been created. mutable object can be modified in place , meaning that changing one part of the object can affect the other part of the program.\n",
        "example:- list, dictionaries, and sets.  "
      ],
      "metadata": {
        "id": "9w2HRdSUHH8I"
      }
    },
    {
      "cell_type": "markdown",
      "source": [
        "Q6: Why are lists mutable,but tuples are immutable?\n",
        "\n",
        "Ans: lists uses square brackets and the items in lists can be modified(means replace item or insert any new item in the same original lists)where as tuples use parantheses and items in tuples cannot be modified(means no changed in a list) that' why lists are mutable and tuples are immutable."
      ],
      "metadata": {
        "id": "j-oViA94HH27"
      }
    },
    {
      "cell_type": "markdown",
      "source": [
        "Q7: What is difference between \"==\" and \"is\" operators in python?\n",
        "\n",
        "Ans: \"==\" and \"is\" operator are different because, \"==\" operator compares if two object have the same value . the \"==\" operator returns true if the objects referred to by the variables are equal. And \"is\" operator compares if two object are identical. the \"is\" operator returns true if the variables on either side of the operator point to the same object."
      ],
      "metadata": {
        "id": "5GA-A92_HHwh"
      }
    },
    {
      "cell_type": "markdown",
      "source": [
        "Q8: What are logicals operator in python?\n",
        "\n",
        "Ans: Logical operator in python are keywords that evaluate conditions and combine them into a single expression. they are also known as boolean operator because they convert operands to boolean values. the three logical operators in python are as follows:-\n",
        "1. and operator: returns true if both conditions are true.\n",
        "2. or operator: returns true if either condition is true.\n",
        "3. not opertaor: reverse the result, returning false if the results is true.\n",
        "\n"
      ],
      "metadata": {
        "id": "9C4ieGmEHHHL"
      }
    },
    {
      "cell_type": "markdown",
      "source": [
        "Q9: What is type casting in python?\n",
        "\n",
        "Ans:Type casting also known as type conversion, is the process of changing a varible's data type to another data type operator in python. There are two type of type casting:-\n",
        "1. implicit type casting.\n",
        "2. explicit type casting\n"
      ],
      "metadata": {
        "id": "XC552gCWHGug"
      }
    },
    {
      "cell_type": "markdown",
      "source": [
        "Q10: what is difference between implicit and explicit type casting?\n",
        "\n",
        "Ans: Implicit Type casting:\n",
        " the compiler or interpreter automatically converts one data type to another without any code notaion. this is often used to convert smaller data type to larger data data type.\n",
        "\n",
        "Explicit Type casting:\n",
        "the programmer manually writes code to instruct the compiler or interpreter to make specific conversion. this is used when there is apossibility of data loss."
      ],
      "metadata": {
        "id": "w9NzZuqB0Wk-"
      }
    },
    {
      "cell_type": "markdown",
      "source": [
        "Q11: What is the purpose of conditional statements in python?\n",
        "\n",
        "Ans: The purpose of Conditional statement in python is to control the flow of code execution by making decision based on conditions. They make code more efficient and easier to read."
      ],
      "metadata": {
        "id": "Q_bGO2N60Yh8"
      }
    },
    {
      "cell_type": "markdown",
      "source": [
        "Q12: How does the elif statement work?\n",
        "\n",
        "Ans: The \"elif\" keyword in python, stands for\"else\". It can be used in conditional statement to check for multiple conditions."
      ],
      "metadata": {
        "id": "foaRnZ3a0agU"
      }
    },
    {
      "cell_type": "markdown",
      "source": [
        "Q13: What is the difference between for and while loops?\n",
        "\n",
        "Ans: A for loop is a control flow statement that execute code for a predefined number of iteration. The keyword used in this control flow statement is \"for\". when the number of iteration is already known,the for loop is used. where as while loop that runs a single statement or a set of statement for a given true condition. this loop is represented by the keyword\"while\". when the number of iteration is unknown, a while loop is used.   "
      ],
      "metadata": {
        "id": "TZKWfgOA7KiE"
      }
    },
    {
      "cell_type": "markdown",
      "source": [
        "Q14: Describe a scenario where a while loop is more suitable than a for loop?\n",
        "\n",
        "Ans: while loops and for loops are both used for iteration in programing , but they each have scenarios where one is more appropriate than the other. one of the scenario of while is\n",
        "\n",
        "indeterminate iteration: when the number of iteration is not known beforehand and depends on a condition. for example, reading input until a specific value is enterd:"
      ],
      "metadata": {
        "id": "CFM8cBnE_h2J"
      }
    },
    {
      "cell_type": "code",
      "source": [
        "user_input = \"\"\n",
        "while user_input != \"quit\":\n",
        "    user_input = input(\"Enter a command (or 'quit' to exit): \")\n",
        "    print(\"You entered:\", user_input)\n"
      ],
      "metadata": {
        "colab": {
          "base_uri": "https://localhost:8080/"
        },
        "id": "MejA3UsSB91I",
        "outputId": "a61294e3-be9e-4c84-d3ba-6f0d21625400"
      },
      "execution_count": null,
      "outputs": [
        {
          "output_type": "stream",
          "name": "stdout",
          "text": [
            "Enter a command (or 'quit' to exit): type\n",
            "You entered: type\n",
            "Enter a command (or 'quit' to exit): brother\n",
            "You entered: brother\n",
            "Enter a command (or 'quit' to exit): quit\n",
            "You entered: quit\n"
          ]
        }
      ]
    },
    {
      "cell_type": "markdown",
      "source": [
        "Practical Questions :"
      ],
      "metadata": {
        "id": "uaala5IsAk_e"
      }
    },
    {
      "cell_type": "markdown",
      "source": [
        "Q1: Write a python program to print \"Hello world\"?\n"
      ],
      "metadata": {
        "id": "3mG1HEAYA_EN"
      }
    },
    {
      "cell_type": "code",
      "source": [
        "# to print \"Hello world\"\n",
        "\n",
        "print(\"Hello world\")"
      ],
      "metadata": {
        "colab": {
          "base_uri": "https://localhost:8080/"
        },
        "id": "pJV6Al1QBq5V",
        "outputId": "767fd23b-6324-454a-94ea-6f5783128174"
      },
      "execution_count": null,
      "outputs": [
        {
          "output_type": "stream",
          "name": "stdout",
          "text": [
            "Hello world\n"
          ]
        }
      ]
    },
    {
      "cell_type": "markdown",
      "source": [
        "Q2: Write a python program that display your name and age."
      ],
      "metadata": {
        "id": "1SZilEhwCHX-"
      }
    },
    {
      "cell_type": "code",
      "source": [
        "# to print name and age.\n",
        "name = input(\"enter name:\")\n",
        "age = input(\"enter age:\")\n",
        "print(\"Hi,my Name is \" +name+\",and i am \"+age+\"years old\")\n",
        "\n"
      ],
      "metadata": {
        "colab": {
          "base_uri": "https://localhost:8080/"
        },
        "id": "n6IJiKszCVGy",
        "outputId": "20585aac-470e-4c1e-d889-cdc134f43e74"
      },
      "execution_count": null,
      "outputs": [
        {
          "output_type": "stream",
          "name": "stdout",
          "text": [
            "enter name:abhishek kumar pandey\n",
            "enter age:27\n",
            "Hi,my Name is abhishek kumar pandey,and i am 27years old\n"
          ]
        }
      ]
    },
    {
      "cell_type": "markdown",
      "source": [
        "Q3: Write a code to print all the pre-defined keywords in the python using the keyword library."
      ],
      "metadata": {
        "id": "-cyu3C1PEu7d"
      }
    },
    {
      "cell_type": "code",
      "source": [
        "import keyword\n",
        "\n",
        "# printing all keywords at once using \"kwlist()\"\n",
        "print(\"the list of keyword is : \")\n",
        "print(keyword.kwlist)"
      ],
      "metadata": {
        "colab": {
          "base_uri": "https://localhost:8080/"
        },
        "id": "kPEsWkjXFJXE",
        "outputId": "2cb4e4f6-0935-4ce6-83f5-8b8cdb5c8538"
      },
      "execution_count": null,
      "outputs": [
        {
          "output_type": "stream",
          "name": "stdout",
          "text": [
            "the list of keyword is : \n",
            "['False', 'None', 'True', 'and', 'as', 'assert', 'async', 'await', 'break', 'class', 'continue', 'def', 'del', 'elif', 'else', 'except', 'finally', 'for', 'from', 'global', 'if', 'import', 'in', 'is', 'lambda', 'nonlocal', 'not', 'or', 'pass', 'raise', 'return', 'try', 'while', 'with', 'yield']\n"
          ]
        }
      ]
    },
    {
      "cell_type": "markdown",
      "source": [
        "Q4: Write a program that checks if a given word is a python keyword?\n"
      ],
      "metadata": {
        "id": "25c3Bf0KG89M"
      }
    },
    {
      "cell_type": "code",
      "source": [
        "# check if it's a python keyword or not\n",
        "\n",
        "import keyword\n",
        "s = 'for'\n",
        "if keyword.iskeyword(s):\n",
        "    print(s + 'is a python keyword')\n",
        "else:\n",
        "    print(s + 'is not a python keyword')"
      ],
      "metadata": {
        "colab": {
          "base_uri": "https://localhost:8080/"
        },
        "id": "mvTqS1ICHPKx",
        "outputId": "3d4cda60-ded0-46ae-bc9b-2b2ee997679e"
      },
      "execution_count": null,
      "outputs": [
        {
          "output_type": "stream",
          "name": "stdout",
          "text": [
            "foris a python keyword\n"
          ]
        }
      ]
    },
    {
      "cell_type": "markdown",
      "source": [
        "Q5: Create a list and tuple in python and demonstrate how attempting to change an element work differntly for each."
      ],
      "metadata": {
        "id": "I9Fj98jBJJb6"
      }
    },
    {
      "cell_type": "code",
      "source": [
        "# creating a list and tuple then check their ability of changing element\n",
        "# creating a list\n",
        "\n",
        "list = [1,2,3,4,5,6,4,3,2]\n",
        "print(\"original list\", list)\n",
        "\n",
        "list[3] = 76\n",
        "print(\"to show change in list\", list)"
      ],
      "metadata": {
        "colab": {
          "base_uri": "https://localhost:8080/"
        },
        "id": "FW1_vVNjMwpb",
        "outputId": "c6fea94b-79f3-4326-986b-ce975f28ddae"
      },
      "execution_count": null,
      "outputs": [
        {
          "output_type": "stream",
          "name": "stdout",
          "text": [
            "original list [1, 2, 3, 4, 5, 6, 4, 3, 2]\n",
            "to show change in list [1, 2, 3, 76, 5, 6, 4, 3, 2]\n"
          ]
        }
      ]
    },
    {
      "cell_type": "code",
      "source": [
        "# creating tuple\n",
        "\n",
        "tuple1 = (1,2,3,4,5,6,4,3,2)\n",
        "print(\"original tuple\", tuple1)\n",
        "\n",
        "tuple1[3] = 76\n",
        "print(\"to show change in tuple\", tuple1)"
      ],
      "metadata": {
        "colab": {
          "base_uri": "https://localhost:8080/",
          "height": 228
        },
        "id": "BhRD1cWyO01e",
        "outputId": "94198636-5d3a-4285-ce57-7688de56f016"
      },
      "execution_count": null,
      "outputs": [
        {
          "output_type": "stream",
          "name": "stdout",
          "text": [
            "original tuple (1, 2, 3, 4, 5, 6, 4, 3, 2)\n"
          ]
        },
        {
          "output_type": "error",
          "ename": "TypeError",
          "evalue": "'tuple' object does not support item assignment",
          "traceback": [
            "\u001b[0;31m---------------------------------------------------------------------------\u001b[0m",
            "\u001b[0;31mTypeError\u001b[0m                                 Traceback (most recent call last)",
            "\u001b[0;32m<ipython-input-13-8f3626a9e035>\u001b[0m in \u001b[0;36m<cell line: 0>\u001b[0;34m()\u001b[0m\n\u001b[1;32m      4\u001b[0m \u001b[0mprint\u001b[0m\u001b[0;34m(\u001b[0m\u001b[0;34m\"original tuple\"\u001b[0m\u001b[0;34m,\u001b[0m \u001b[0mtuple1\u001b[0m\u001b[0;34m)\u001b[0m\u001b[0;34m\u001b[0m\u001b[0;34m\u001b[0m\u001b[0m\n\u001b[1;32m      5\u001b[0m \u001b[0;34m\u001b[0m\u001b[0m\n\u001b[0;32m----> 6\u001b[0;31m \u001b[0mtuple1\u001b[0m\u001b[0;34m[\u001b[0m\u001b[0;36m3\u001b[0m\u001b[0;34m]\u001b[0m \u001b[0;34m=\u001b[0m \u001b[0;36m76\u001b[0m\u001b[0;34m\u001b[0m\u001b[0;34m\u001b[0m\u001b[0m\n\u001b[0m\u001b[1;32m      7\u001b[0m \u001b[0mprint\u001b[0m\u001b[0;34m(\u001b[0m\u001b[0;34m\"to show change in tuple\"\u001b[0m\u001b[0;34m,\u001b[0m \u001b[0mtuple1\u001b[0m\u001b[0;34m)\u001b[0m\u001b[0;34m\u001b[0m\u001b[0;34m\u001b[0m\u001b[0m\n\u001b[1;32m      8\u001b[0m \u001b[0mprint\u001b[0m\u001b[0;34m(\u001b[0m\u001b[0;34m\"this show the tuples are immutable,once created it can not be changed\"\u001b[0m\u001b[0;34m)\u001b[0m\u001b[0;34m\u001b[0m\u001b[0;34m\u001b[0m\u001b[0m\n",
            "\u001b[0;31mTypeError\u001b[0m: 'tuple' object does not support item assignment"
          ]
        }
      ]
    },
    {
      "cell_type": "markdown",
      "source": [
        "Q6: Write a program to demonstrate the use of logical operator.\n"
      ],
      "metadata": {
        "id": "bzEjGVTQQVPN"
      }
    },
    {
      "cell_type": "code",
      "source": [
        "#there are three logical operator (and,or,not)\n",
        "#and operator (returns true if both statement true)\n",
        "\n",
        "x = 5\n",
        "print(x > 3 and x < 10)\n",
        "# returns true because 5 is greater than 3 and 5 is less thsn 10\n",
        "\n",
        "#or operator (returns true if one of the statement is true)\n",
        "\n",
        "x = 5\n",
        "print(x > 3 or x < 4)\n",
        "#returns true because one statement  is true 5 is greater than 3 but not less than 4\n",
        "\n",
        "\n",
        "#not operator (reverse the result , returns false if the result is true)\n",
        "\n",
        "x = 5\n",
        "print(not(x > 3 and x < 10))\n",
        "#returns false because not is used to reverse the result\n",
        "\n",
        "\n"
      ],
      "metadata": {
        "colab": {
          "base_uri": "https://localhost:8080/"
        },
        "id": "kWHpZ_c7Qr5a",
        "outputId": "537d7941-315d-4a38-f8a2-fc1036e76061"
      },
      "execution_count": null,
      "outputs": [
        {
          "output_type": "stream",
          "name": "stdout",
          "text": [
            "True\n",
            "True\n",
            "False\n"
          ]
        }
      ]
    },
    {
      "cell_type": "markdown",
      "source": [
        "Q7: write a python program to convert user input from string to integer,float and boolean types.\n"
      ],
      "metadata": {
        "id": "G6xhjd19ZBfu"
      }
    },
    {
      "cell_type": "code",
      "source": [
        "#program for converting user input from string to integer,float and boolean\n",
        "\n",
        "user_input = input(\"enter a value:\")\n",
        "integer_value = int(user_input)\n",
        "float_value = float(user_input)\n",
        "boolean_value = bool(user_input)\n",
        "print(\"integer value:\", integer_value)\n",
        "print(\"float value:\", float_value)\n",
        "print(\"boolean value:\", boolean_value)\n"
      ],
      "metadata": {
        "colab": {
          "base_uri": "https://localhost:8080/"
        },
        "id": "Q7BubL8zZdpJ",
        "outputId": "fcb96522-ca00-4d66-d967-e6e8b18fcb45"
      },
      "execution_count": null,
      "outputs": [
        {
          "output_type": "stream",
          "name": "stdout",
          "text": [
            "enter a value:24\n",
            "integer value: 24\n",
            "float value: 24.0\n",
            "boolean value: True\n"
          ]
        }
      ]
    },
    {
      "cell_type": "markdown",
      "source": [
        "Q8: write a code to demonstrate type casting with list element.\n"
      ],
      "metadata": {
        "id": "pW0uljw6b5eT"
      }
    },
    {
      "cell_type": "code",
      "source": [
        "# python program to demonstrate type casting\n",
        "# here we change float to int data type\n",
        "\n",
        "# float variable\n",
        "a = 5.9\n",
        "\n",
        "#typecast to int\n",
        "n = int(a)\n",
        "\n",
        "print(n)\n",
        "print(type(n))"
      ],
      "metadata": {
        "colab": {
          "base_uri": "https://localhost:8080/"
        },
        "id": "nxPAseKNcLRB",
        "outputId": "8d7661ac-d6e7-43aa-9bd9-6573cd43b22e"
      },
      "execution_count": null,
      "outputs": [
        {
          "output_type": "stream",
          "name": "stdout",
          "text": [
            "5\n",
            "<class 'int'>\n"
          ]
        }
      ]
    },
    {
      "cell_type": "markdown",
      "source": [
        "Q9: write a program that checks if a number is positive,negative,or zero.\n"
      ],
      "metadata": {
        "id": "oU5E6MRPe9PI"
      }
    },
    {
      "cell_type": "code",
      "source": [
        "num = int(input(\"enter a number:\"))\n",
        "if num > 0:\n",
        "    print(\"the number is positive\")\n",
        "elif num < 0:\n",
        "    print(\"the number is negative\")\n",
        "else:\n",
        "    print(\"the number is 0\")"
      ],
      "metadata": {
        "colab": {
          "base_uri": "https://localhost:8080/"
        },
        "id": "KCJIRRo8fLpJ",
        "outputId": "7ce738cf-0455-4900-e2bf-f351f5b77f72"
      },
      "execution_count": null,
      "outputs": [
        {
          "output_type": "stream",
          "name": "stdout",
          "text": [
            "enter a number:67\n",
            "the number is positive\n"
          ]
        }
      ]
    },
    {
      "cell_type": "markdown",
      "source": [
        "Q10: write a for loop to print number from 1 to 10."
      ],
      "metadata": {
        "id": "nVZOxj7ygpaY"
      }
    },
    {
      "cell_type": "code",
      "source": [
        "print(\"print integer 1 to 10 using for loop:\")\n",
        "for i in range(1,11):  # iterates for ten times\n",
        " print(i)"
      ],
      "metadata": {
        "colab": {
          "base_uri": "https://localhost:8080/"
        },
        "id": "eAux-0v5ho47",
        "outputId": "5b295c81-38d8-4478-b52e-4b47fec82202"
      },
      "execution_count": null,
      "outputs": [
        {
          "output_type": "stream",
          "name": "stdout",
          "text": [
            "print integer 1 to 10 using for loop:\n",
            "1\n",
            "2\n",
            "3\n",
            "4\n",
            "5\n",
            "6\n",
            "7\n",
            "8\n",
            "9\n",
            "10\n"
          ]
        }
      ]
    },
    {
      "cell_type": "markdown",
      "source": [
        "Q11: write a python program to find th sum of all even number between 1 and 50.\n"
      ],
      "metadata": {
        "id": "QcqU0kt0iOzg"
      }
    },
    {
      "cell_type": "code",
      "source": [
        "print(\"print sum of all even number between 1 to 50:\")\n",
        "sum = 0\n",
        "for i in range(0,51,2):\n",
        "  if (i % 2 == 0):\n",
        "    sum=sum+i\n",
        "\n",
        "    print(\"sum of even number is\",sum)"
      ],
      "metadata": {
        "id": "24GVz1pS9LfX"
      },
      "execution_count": null,
      "outputs": []
    },
    {
      "cell_type": "markdown",
      "source": [
        "Q12: write a program to reverse a string using a while loop/"
      ],
      "metadata": {
        "id": "xkVA550cDOB1"
      }
    },
    {
      "cell_type": "code",
      "source": [
        "# using a while loop\n",
        "a = input(\"Please enter your own : \")\n",
        "\n",
        "b = ''\n",
        "i = len(a) - 1\n",
        "\n",
        "while(i >= 0):\n",
        "    b = b + a[i]\n",
        "    i = i - 1\n",
        "\n",
        "print(\"\\nThe Original = \", a)\n",
        "print(\"The Inverted = \", b)"
      ],
      "metadata": {
        "id": "Q2dceDaHHuC2"
      },
      "execution_count": null,
      "outputs": []
    },
    {
      "cell_type": "markdown",
      "source": [
        "Q13: write a python program to calculate the factorial of a number provided by the user using a while loop?"
      ],
      "metadata": {
        "id": "_Mx8ypBiFnO5"
      }
    },
    {
      "cell_type": "code",
      "source": [
        "num = int(input(\"enter a number: \"))\n",
        "\n",
        "fac = 1\n",
        "i = 1\n",
        "\n",
        "while i <= num:\n",
        "\tfac = fac * i\n",
        "\ti = i + 1\n",
        "\n",
        "print(\"factorial of \", num, \" is \", fac)"
      ],
      "metadata": {
        "id": "lh9ynr3wF9Re"
      },
      "execution_count": null,
      "outputs": []
    }
  ]
}